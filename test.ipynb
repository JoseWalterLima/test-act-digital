{
 "cells": [
  {
   "cell_type": "markdown",
   "metadata": {},
   "source": [
    "##### Bibliotecas necessárias e configurações de ambiente"
   ]
  },
  {
   "cell_type": "code",
   "execution_count": 1,
   "metadata": {},
   "outputs": [],
   "source": [
    "import os\n",
    "import sys\n",
    "from pyspark.sql import SparkSession\n",
    "from pyspark.sql.functions import col, avg, desc, udf\n",
    "from pyspark.sql.types import StringType\n",
    "from pyspark.sql.window import Window\n",
    "\n",
    "# Set variáveis de ambiente\n",
    "os.environ['PYSPARK_PYTHON'] = sys.executable\n",
    "os.environ['PYSPARK_DRIVER_PYTHON'] = sys.executable\n",
    "\n",
    "# Cria uma sessão Spark\n",
    "spark=SparkSession.builder \\\n",
    "    .appName(\"actdigital\") \\\n",
    "    .getOrCreate()"
   ]
  },
  {
   "cell_type": "code",
   "execution_count": 3,
   "metadata": {},
   "outputs": [],
   "source": [
    "# Dados disponibilizados\n",
    "data=[\n",
    "    (\"Alice\", 34, \"Data Scientist\"),\n",
    "    (\"Bob\", 45, \"Data Engineer\"),\n",
    "    (\"Cathy\", 29, \"Data Analyst\"),\n",
    "    (\"David\", 35, \"Data Scientist\")\n",
    "]\n",
    "columns=[\"Name\", \"Age\", \"Occupation\"]"
   ]
  },
  {
   "cell_type": "markdown",
   "metadata": {},
   "source": [
    "##### Parte 1: Manipulação de Dados"
   ]
  },
  {
   "cell_type": "code",
   "execution_count": 6,
   "metadata": {},
   "outputs": [
    {
     "name": "stdout",
     "output_type": "stream",
     "text": [
      "+-----+---+--------------+\n",
      "| Name|Age|    Occupation|\n",
      "+-----+---+--------------+\n",
      "|Alice| 34|Data Scientist|\n",
      "|  Bob| 45| Data Engineer|\n",
      "|Cathy| 29|  Data Analyst|\n",
      "|David| 35|Data Scientist|\n",
      "+-----+---+--------------+\n",
      "\n"
     ]
    }
   ],
   "source": [
    "# Crie um DataFrame a partir dos dados fornecidos\n",
    "df=spark.createDataFrame(data, schema=columns)\n",
    "df.show()"
   ]
  },
  {
   "cell_type": "code",
   "execution_count": 7,
   "metadata": {},
   "outputs": [
    {
     "name": "stdout",
     "output_type": "stream",
     "text": [
      "+-----+---+\n",
      "| name|age|\n",
      "+-----+---+\n",
      "|Alice| 34|\n",
      "|  Bob| 45|\n",
      "|Cathy| 29|\n",
      "|David| 35|\n",
      "+-----+---+\n",
      "\n"
     ]
    }
   ],
   "source": [
    "# Selecione apenas as colunas \"Name\" e \"Age\" \n",
    "df.select(\"name\", \"age\").show()"
   ]
  },
  {
   "cell_type": "code",
   "execution_count": 13,
   "metadata": {},
   "outputs": [
    {
     "name": "stdout",
     "output_type": "stream",
     "text": [
      "+-----+---+--------------+\n",
      "| Name|Age|    Occupation|\n",
      "+-----+---+--------------+\n",
      "|Alice| 34|Data Scientist|\n",
      "|  Bob| 45| Data Engineer|\n",
      "|David| 35|Data Scientist|\n",
      "+-----+---+--------------+\n",
      "\n"
     ]
    }
   ],
   "source": [
    "# Filtre as linhas onde a \"Age\" é maior que 30\n",
    "df.filter(\"Age > 30\").show()"
   ]
  },
  {
   "cell_type": "code",
   "execution_count": 19,
   "metadata": {},
   "outputs": [
    {
     "name": "stdout",
     "output_type": "stream",
     "text": [
      "+--------------+--------+\n",
      "|    Occupation|avg(Age)|\n",
      "+--------------+--------+\n",
      "|Data Scientist|    34.5|\n",
      "| Data Engineer|    45.0|\n",
      "|  Data Analyst|    29.0|\n",
      "+--------------+--------+\n",
      "\n"
     ]
    }
   ],
   "source": [
    "# Agrupe os dados pelo campo \"Occupation\" e calcule a média de \"Age\" para cada grupo\n",
    "df.groupBy(\"Occupation\").agg(\n",
    "    avg(\"Age\")\n",
    "    ).show()"
   ]
  },
  {
   "cell_type": "code",
   "execution_count": 23,
   "metadata": {},
   "outputs": [
    {
     "name": "stdout",
     "output_type": "stream",
     "text": [
      "+--------------+--------+\n",
      "|    Occupation|avg(Age)|\n",
      "+--------------+--------+\n",
      "| Data Engineer|    45.0|\n",
      "|Data Scientist|    34.5|\n",
      "|  Data Analyst|    29.0|\n",
      "+--------------+--------+\n",
      "\n"
     ]
    }
   ],
   "source": [
    "# Ordene o DataFrame resultante da questão anterior pela média de \"Age\" em ordem decrescente\n",
    "df.groupBy(\"Occupation\").agg(\n",
    "    avg(\"Age\")).orderBy(desc(\n",
    "    \"avg(Age)\")).show()"
   ]
  },
  {
   "cell_type": "markdown",
   "metadata": {},
   "source": [
    "##### Parte 2: Funções Avançadas"
   ]
  },
  {
   "cell_type": "code",
   "execution_count": 28,
   "metadata": {},
   "outputs": [
    {
     "name": "stdout",
     "output_type": "stream",
     "text": [
      "+-----+---+--------------+-----------+\n",
      "| Name|Age|    Occupation|AgeCategory|\n",
      "+-----+---+--------------+-----------+\n",
      "|Alice| 34|Data Scientist|     Adulto|\n",
      "|  Bob| 45| Data Engineer|     Senior|\n",
      "|Cathy| 29|  Data Analyst|      Jovem|\n",
      "|David| 35|Data Scientist|     Adulto|\n",
      "+-----+---+--------------+-----------+\n",
      "\n"
     ]
    }
   ],
   "source": [
    "# Crie uma função em Python que converte idades para categorias\n",
    "# e aplique esta função ao DataFrame usando uma UDF\n",
    "\n",
    "# Função python\n",
    "def age_category(age):\n",
    "    if age < 30:\n",
    "        return \"Jovem\"\n",
    "    elif 30 < age < 40:\n",
    "        return \"Adulto\"\n",
    "    else:\n",
    "        return \"Senior\"\n",
    "\n",
    "# Converter para UDF\n",
    "age_category_udf=udf(age_category, StringType())\n",
    "\n",
    "# Criar coluna com categorias\n",
    "df=df.withColumn(\"AgeCategory\", age_category_udf(df[\"Age\"]))\n",
    "df.show()"
   ]
  },
  {
   "cell_type": "code",
   "execution_count": 31,
   "metadata": {},
   "outputs": [
    {
     "name": "stdout",
     "output_type": "stream",
     "text": [
      "+-----+---+--------------+-----------+----------------+-------------+\n",
      "| Name|Age|    Occupation|AgeCategory|AvgOccupationAge|AgeDifference|\n",
      "+-----+---+--------------+-----------+----------------+-------------+\n",
      "|Cathy| 29|  Data Analyst|      Jovem|            29.0|          0.0|\n",
      "|  Bob| 45| Data Engineer|     Senior|            45.0|          0.0|\n",
      "|Alice| 34|Data Scientist|     Adulto|            34.5|         -0.5|\n",
      "|David| 35|Data Scientist|     Adulto|            34.5|          0.5|\n",
      "+-----+---+--------------+-----------+----------------+-------------+\n",
      "\n"
     ]
    }
   ],
   "source": [
    "# Adicione uma coluna que mostre a diferença de idade entre\n",
    "# cada indivíduo e a média de idade do seu \"Occupation\"\n",
    "\n",
    "# Especificar condicional da janela\n",
    "windowSpec=Window.partitionBy(\"Occupation\")\n",
    "\n",
    "# Calcular a idade média da ocupação\n",
    "df=df.withColumn(\"AvgOccupationAge\", avg(\n",
    "    \"Age\").over(windowSpec))\n",
    "\n",
    "# Diferença em relação à média da ocupação\n",
    "df=df.withColumn(\"AgeDifference\", col(\n",
    "    \"Age\") - col(\"AvgOccupationAge\"))\n",
    "df.show()"
   ]
  },
  {
   "cell_type": "markdown",
   "metadata": {},
   "source": [
    "##### Parte 3: Performance e Otimização"
   ]
  },
  {
   "cell_type": "code",
   "execution_count": null,
   "metadata": {},
   "outputs": [],
   "source": []
  },
  {
   "cell_type": "markdown",
   "metadata": {},
   "source": [
    "##### Parte 4: Integração com Outras Tecnologias"
   ]
  },
  {
   "cell_type": "markdown",
   "metadata": {},
   "source": [
    "##### Parte 5: Problema de Caso"
   ]
  }
 ],
 "metadata": {
  "kernelspec": {
   "display_name": "env",
   "language": "python",
   "name": "python3"
  },
  "language_info": {
   "codemirror_mode": {
    "name": "ipython",
    "version": 3
   },
   "file_extension": ".py",
   "mimetype": "text/x-python",
   "name": "python",
   "nbconvert_exporter": "python",
   "pygments_lexer": "ipython3",
   "version": "3.10.7"
  }
 },
 "nbformat": 4,
 "nbformat_minor": 2
}
